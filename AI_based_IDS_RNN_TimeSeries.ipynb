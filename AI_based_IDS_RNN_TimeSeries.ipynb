{
  "nbformat": 4,
  "nbformat_minor": 0,
  "metadata": {
    "colab": {
      "name": "AI_based_IDS_RNN_TimeSeries.ipynb",
      "provenance": [],
      "collapsed_sections": [],
      "include_colab_link": true
    },
    "kernelspec": {
      "name": "python3",
      "display_name": "Python 3"
    }
  },
  "cells": [
    {
      "cell_type": "markdown",
      "metadata": {
        "id": "view-in-github",
        "colab_type": "text"
      },
      "source": [
        "<a href=\"https://colab.research.google.com/github/shivamtyagi18/295Proj/blob/master/AI_based_IDS_RNN_TimeSeries.ipynb\" target=\"_parent\"><img src=\"https://colab.research.google.com/assets/colab-badge.svg\" alt=\"Open In Colab\"/></a>"
      ]
    },
    {
      "cell_type": "code",
      "metadata": {
        "id": "dtESwgvuRaE9",
        "colab_type": "code",
        "colab": {}
      },
      "source": [
        "from google.colab import drive\n",
        "drive.mount('/content/drive')"
      ],
      "execution_count": null,
      "outputs": []
    },
    {
      "cell_type": "markdown",
      "metadata": {
        "id": "VH3NYWelW3k8",
        "colab_type": "text"
      },
      "source": [
        "1. Create blocks\n",
        "2. Passing each block through RNN\n",
        "3. Combining accuracies of the blocks"
      ]
    },
    {
      "cell_type": "markdown",
      "metadata": {
        "id": "SAQB4w7LXWLt",
        "colab_type": "text"
      },
      "source": [
        "Results:\n",
        "24 X 3600 seconds\n",
        "\n",
        "Time intervals:\n",
        "5mins------10mins------15mins----20mins-----25mins----30mins\n",
        "300secs----600secs----900secs----1200sec---1500sec----1800secs\n",
        "\n",
        "Pardis\n",
        "\n",
        "\n",
        "Uma\n",
        "\n",
        "\n",
        "\n",
        "Shivam"
      ]
    },
    {
      "cell_type": "markdown",
      "metadata": {
        "id": "IaEzUrcKZwF5",
        "colab_type": "text"
      },
      "source": [
        "# Global Preprocessing"
      ]
    },
    {
      "cell_type": "code",
      "metadata": {
        "id": "gysXyqdAZftH",
        "colab_type": "code",
        "colab": {}
      },
      "source": [
        "# Global Preprocessing\n",
        "\n",
        "import os\n",
        "import csv\n",
        "import math\n",
        "import sklearn\n",
        "import datetime\n",
        "import numpy as np\n",
        "import pandas as pd\n",
        "import sklearn.preprocessing\n",
        "import matplotlib.pyplot as plt\n",
        "from sklearn.utils import shuffle\n",
        "from sklearn.preprocessing import LabelEncoder\n",
        "import tensorflow as tf\n",
        "from tensorflow.keras.models import Sequential\n",
        "from tensorflow.keras.layers import Dense, Dropout, LSTM\n",
        "\n",
        "def preprocessing():\n",
        "    train_data = pd.read_csv('/content/drive/Shared drives/Master Project/DataSet/kyoto.csv')\n",
        "    \n",
        "    train_data = train_data.dropna()\n",
        "    \n",
        "    train_data.columns = ['duration', 'service', 'src_bytes', 'dest_bytes', 'count', 'same_srv_rate', 'serror_rate', \n",
        "                          'srv_serror_rate', 'dst_host_count', 'dst_host_srv_count', 'dst_host_same_src_port_rate', \n",
        "                          'dst_host_serror_rate', 'dst_host_srv_serror_rate', 'flag', 'ids_detection', 'malware_detection', \n",
        "                          'ashula_detection', 'label', 'source_ip_address', 'source_port_number', 'destination_ip_address', \n",
        "                          'destination_port_number', 'start_time', 'protocol']\n",
        "    \n",
        "    train_data = train_data.drop(columns = ['ids_detection', 'malware_detection', 'ashula_detection', 'service', 'dest_bytes', \n",
        "                                            'count', 'same_srv_rate', 'serror_rate', 'srv_serror_rate', 'dst_host_count', \n",
        "                                            'dst_host_srv_count', 'dst_host_same_src_port_rate', 'dst_host_serror_rate', \n",
        "                                            'dst_host_srv_serror_rate'])\n",
        "        \n",
        "    col_list_cat = list(train_data[['flag', 'source_ip_address', 'destination_ip_address', 'label']])\n",
        "\n",
        "    for i in col_list_cat:\n",
        "        label_encoder = LabelEncoder()\n",
        "        train_data[i] = label_encoder.fit_transform(train_data[i])\n",
        "        list(label_encoder.classes_)\n",
        "        \n",
        "    train_data.loc[train_data['protocol'] == \"tcp\", 'protocol'] = 6\n",
        "    train_data.loc[train_data['protocol'] == \"udp\", 'protocol'] = 17\n",
        "    train_data.loc[train_data['protocol'] == \"icmp\", 'protocol'] = 1\n",
        "\n",
        "    for i in range(len(train_data)):\n",
        "      h, m, s = train_data['start_time'][i].split(':')\n",
        "      train_data['start_time'][i] = (int(h) * 3600 + int(m) * 60 + int(s))\n",
        "\n",
        "    print(\"preprocessing done\")\n",
        "    \n",
        "    return(train_data)"
      ],
      "execution_count": null,
      "outputs": []
    },
    {
      "cell_type": "markdown",
      "metadata": {
        "id": "wLaheR__WXgz",
        "colab_type": "text"
      },
      "source": [
        "# Pardis's Code"
      ]
    },
    {
      "cell_type": "code",
      "metadata": {
        "id": "Vcxlg_FHRofw",
        "colab_type": "code",
        "colab": {}
      },
      "source": [
        ""
      ],
      "execution_count": null,
      "outputs": []
    },
    {
      "cell_type": "markdown",
      "metadata": {
        "id": "yrIwoJ7UWdht",
        "colab_type": "text"
      },
      "source": [
        "# Uma's Code"
      ]
    },
    {
      "cell_type": "code",
      "metadata": {
        "id": "psx5SRfdU_LB",
        "colab_type": "code",
        "colab": {
          "base_uri": "https://localhost:8080/",
          "height": 34
        },
        "outputId": "6f84c92d-e4bf-483c-8cce-438b4d89a19a"
      },
      "source": [
        "# Uma\n"
      ],
      "execution_count": null,
      "outputs": [
        {
          "output_type": "stream",
          "text": [
            "preprocessing done\n"
          ],
          "name": "stdout"
        }
      ]
    },
    {
      "cell_type": "markdown",
      "metadata": {
        "id": "j2EZgDENWh2L",
        "colab_type": "text"
      },
      "source": [
        "# Shivam's Code"
      ]
    },
    {
      "cell_type": "code",
      "metadata": {
        "id": "C0LywezcVmky",
        "colab_type": "code",
        "colab": {}
      },
      "source": [
        "\n",
        "\n"
      ],
      "execution_count": null,
      "outputs": []
    }
  ]
}